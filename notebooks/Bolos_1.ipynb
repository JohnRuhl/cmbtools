{
 "cells": [
  {
   "cell_type": "markdown",
   "metadata": {},
   "source": [
    "# CMB bolometers:  optical loading and noise\n",
    "_(J. Ruhl, ruhl@case.edu, 4/6/2019)_\n",
    "<br>\n",
    "In this notebook we take a given experiment's optical configuration, calculate loading on bolometer, and then calculate its NEP and NET given a small number of TES-related inputs.\n",
    "\n",
    "Most of this notebook goes through how one does the relevant calculations for a single, specified case.  If you get to the end, we'll introduce some functions implementing all this that can be used to loop over parameters of interest."
   ]
  },
  {
   "cell_type": "code",
   "execution_count": 144,
   "metadata": {},
   "outputs": [],
   "source": [
    "import numpy as np\n",
    "import matplotlib.pyplot as plt\n",
    "import jr_util as jr  # a library of blackbody-related functions\n",
    "%matplotlib inline\n",
    "plt.rcParams.update({'font.size': 18})\n",
    "plt.rcParams['figure.figsize'] = [10, 5]\n",
    "\n",
    "c= 2.99792458e8\n",
    "h = 6.626068e-34\n",
    "k = 1.3806503e-23\n",
    "Tcmb = 2.725"
   ]
  },
  {
   "cell_type": "markdown",
   "metadata": {},
   "source": [
    "### Optical setup\n",
    "Let's define the optical setup.  We do this by specifying elements from the bolometer outward.  We'll do this for a canonical 150GHz \"small aperture telescope\" at the South Pole, ie no warm mirrors."
   ]
  },
  {
   "cell_type": "code",
   "execution_count": 5,
   "metadata": {},
   "outputs": [],
   "source": [
    "# Define the optical elements, for calculating optical efficiency, \n",
    "# optical loading, and photon noise.\n",
    "# These need to be in order, from detector to CMB\n",
    "optics = []\n",
    "optics.append({'name':'300mK feed',   'eps':0.05, 'T':0.1})\n",
    "optics.append({'name':'300mK filter', 'eps':0.05, 'T':0.1})\n",
    "optics.append({'name':'4K lenses',    'eps':0.05, 'T':4.0 })\n",
    "optics.append({'name':'Cold stop',    'eps':0.10, 'T':1.5 })   # changes in loop\n",
    "optics.append({'name':'5K lens',      'eps':0.10, 'T':5.0 })\n",
    "optics.append({'name':'5K filter',    'eps':0.05, 'T':5.0 })\n",
    "optics.append({'name':'50K filter',   'eps':0.05, 'T':50.0 })\n",
    "optics.append({'name':'window',       'eps':0.02, 'T':280.0 })  \n",
    "optics.append({'name':'atm',          'eps':0.07, 'T':230.0 })\n",
    "optics.append({'name':'CMB',          'eps':1.,   'T':2.73 })\n",
    "\n",
    "# Set up optical properties;  divide into bins of width band_resolution\n",
    "# Generic:  30% banwidth\n",
    "#\n",
    "band_center = 150.0  #GHz\n",
    "band_width = 0.3*band_center\n",
    "band_resolution = band_width/1000.   \n",
    "nuGHZ=np.arange(band_center-0.5*band_width, band_center+0.5*band_width, band_resolution)\n",
    "nu = nuGHZ*1.e9"
   ]
  },
  {
   "cell_type": "markdown",
   "metadata": {},
   "source": [
    "## Photon loading and noise\n",
    "Now that the system is defined, we'll loop over optical elements (starting at the detector and going outward, so we can keep track of accumulated optical efficiency) and sum up the optical loading and photon noise contributions.  Both of these are based on the photon occupation number, $ n = \\frac{1}{e^x -1}$, where $x = h\\nu/kT$.\n",
    "<br><br>\n",
    "Note that we will do this calculation for single-mode, single-polarization detectors."
   ]
  },
  {
   "cell_type": "code",
   "execution_count": 42,
   "metadata": {},
   "outputs": [
    {
     "name": "stdout",
     "output_type": "stream",
     "text": [
      "eta_tot = 0.571\n",
      "Qtot = 9.54e-12 W\n",
      "NEP_photon = 1.23e-16 W/sqrt(Hz)\n"
     ]
    }
   ],
   "source": [
    "# Calculate power load and photon NEP, by summing from the detector outward.\n",
    "# First, initialize the things we'll be summing into.\n",
    "NEP2_photon_total = 0.0\n",
    "Qtot = 0.0\n",
    "#\n",
    "# Then initialize the optical efficiency, which starts out as one.\n",
    "eta_tot = 1.0 \n",
    "#\n",
    "# Now set up convenience factors.\n",
    "# Multiply both of these by Nmodes*Npol if those are not unity.\n",
    "noise_prefactor = 2*2*((h**2)*(detector['nu']**2))  \n",
    "\n",
    "# Loop over optical sources, from detector to sky.\n",
    "for i in range(len(optics)):\n",
    "\n",
    "    # Note that detector['nu'] is typically a vector.\n",
    "    x = h*detector['nu']/(k*optics[i]['T'])\n",
    "\n",
    "    #occupation number; this is eps*eta_tot*band/(e^x -1),\n",
    "    # where eta_tot is the optical efficiency from the detector to this element.\n",
    "    n = eta_tot*optics[i]['eps']/(np.exp(x)-1.)    \n",
    "\n",
    "    # photon power on bolometer at each freq\n",
    "    P = h*detector['nu']*n #power per mode per Hz; times Nmodes*Npol if those are not 1.\n",
    "\n",
    "    #Integrate P to get the total power integrated across band\n",
    "    optics[i]['Q'] = np.trapz(P, detector['nu'])\n",
    "\n",
    "    #photon noise integral\n",
    "    integrand = noise_prefactor*(n + n**2) \n",
    "    NEP2_photon_i = np.trapz(integrand, detector['nu'])\n",
    "    optics[i]['NEP_photon'] = np.sqrt(NEP2_photon_i)  # so we can keep track of which elements are dominant in noise.\n",
    "\n",
    "    # update eta_tot for the next loop through here\n",
    "    # eta_tot is the optical effiency between the relevant element and the bolo.\n",
    "    optics[i]['eta_to_bolo'] = eta_tot\n",
    "    if optics[i]['name'] != 'CMB':\n",
    "        eta_tot = eta_tot*(1-optics[i]['eps'])   # we want the efficiency to \"outside the atmosphere\"\n",
    "\n",
    "    #sum powers and NEP^2 to get total (Note that NEP's add in quadrature)\n",
    "    Qtot = Qtot + optics[i]['Q']\n",
    "    NEP2_photon = NEP2_photon + NEP2_photon_i\n",
    "    ####### end for loop over sources\n",
    "\n",
    "NEP_photon = np.sqrt(NEP2_photon)\n",
    "print('eta_tot = %4.3f' % (eta_tot))\n",
    "print('Qtot = %4.2e W' % (Qtot))\n",
    "print('NEP_photon = %4.2e W/sqrt(Hz)' % (NEP_photon))"
   ]
  },
  {
   "cell_type": "markdown",
   "metadata": {},
   "source": [
    "## Conversions from power to K_RJ and K_cmb\n",
    "So far, we've calculated the total optical power on the detector, and calculated the photon NEP.  Before we calculate detector-related NEPs (like phonon and Johnson noise), let's calculate the conversion factor from NEP to uK_cmb, and to uK_RJ. "
   ]
  },
  {
   "cell_type": "code",
   "execution_count": 43,
   "metadata": {},
   "outputs": [],
   "source": [
    "# Now that we have eta_tot, we can do conversions to T_RJ, T_cmb units.\n",
    "#\n",
    "# dP_bolo/dT_RJ, referenced to celstial_sphere (ie what dT_RJ do you need there to create dP_bolo)\n",
    "RJintegrand = k*eta_tot*np.ones(detector['nu'].size)   \n",
    "dPdT_RJ = np.trapz(RJintegrand, detector['nu'])\n",
    "\n",
    "# dP/dT_cmb, again referenced to T at celestial sphere\n",
    "x = h*detector['nu']/(k*Tcmb)\n",
    "AOmega = c**2 / detector['nu']**2  # single mode\n",
    "integrand2 = AOmega*(eta_tot*h**2*(detector['nu']**4))*np.exp(x)/\\\n",
    "  (k*(c**2)*(Tcmb**2)*(np.exp(x)-1.0)**2)\n",
    "dPdT_cmb = np.trapz(integrand2, detector['nu'])"
   ]
  },
  {
   "cell_type": "markdown",
   "metadata": {},
   "source": [
    "Note that we've started to build a dictionary called \"detector\", which is going to hold\n",
    "a lot of quantities relevant to that.  Let's put some things in there before we go\n",
    "and calculate detector noise contributions."
   ]
  },
  {
   "cell_type": "code",
   "execution_count": 44,
   "metadata": {},
   "outputs": [],
   "source": [
    "# Record all the converted total quantities\n",
    "T_RJ_tot = Qtot/dPdT_RJ\n",
    "NET_photon_RJ = NEP_photon/dPdT_RJ\n",
    "NET_photon_cmb = NEP_photon/dPdT_cmb"
   ]
  },
  {
   "cell_type": "code",
   "execution_count": 45,
   "metadata": {},
   "outputs": [],
   "source": [
    "# bolometer parameters;  \n",
    "# these are fmux appropriate\n",
    "#\n",
    "T_coldstage = 0.1 #K\n",
    "T_bolo=2*T_coldstage #note: we use Psat, n, and these T's to calculate dynamic G\n",
    "n = 2.75  #G index - 3 for insulators\n",
    "\n",
    "# Set the total power on the detector based on the calculated optical power.\n",
    "P_sat = 2.0 *Qtot\n",
    "\n",
    "#\n",
    "# Electrical properties;  appropriate for fmux in this example.\n",
    "R_bolo = 1.5 #ohms (operating point)\n",
    "R_load = 0.03 #ohms (shunt)\n",
    "alpha = 10.0 #d(logR) / d(logT) at operating point\n",
    "beta = 0.0 #d(logR) / d(logT) at fixed T\n",
    "NEI_squid = 5.e-12 # pA/sqrtHz \n",
    "L = 60.e-6 # inductance, sets L/R time constant and thus bandwidth of electronics\n"
   ]
  },
  {
   "cell_type": "markdown",
   "metadata": {},
   "source": [
    "## Bolometer noise (phonon + Johnson) calculations\n",
    "With all these inputs, let's now go calculate the bolometer phonon noise and Johnsons noise.\n",
    "<br>\n",
    "First we need to define some values and parameters."
   ]
  },
  {
   "cell_type": "code",
   "execution_count": 48,
   "metadata": {},
   "outputs": [],
   "source": [
    "# Psat = Qtot + P_elec\n",
    "# We model P = kappa*(T_bolo**n - T_coldstage**n)\n",
    "kappa = P_sat/(T_bolo**n - T_coldstage**n)\n",
    "Gdyn = n*kappa*T_bolo**(n-1)   # dynamic G\n",
    "Gbar = P_sat/(T_bolo-T_coldstage)  # Psat = Gbar*delta_T\n",
    "P_el = P_sat - Qtot # Electrical power\n",
    "Lg = (P_el*alpha/(Gdyn*T_bolo)) # loop gain\n",
    "I_bolo = np.sqrt(P_el/R_bolo)\n",
    "V_bolo = I_bolo*R_bolo\n",
    "\n",
    "# Define parameters used in Irwin and Hilton to calculate bolo noise\n",
    "T1 = -1/V_bolo  \n",
    "T2 = 1/(2+beta)\n",
    "T3 = 1.\n",
    "T4 = 1.\n",
    "S_dc = T1  # DC responsivity, Amps/Watt."
   ]
  },
  {
   "cell_type": "markdown",
   "metadata": {},
   "source": [
    "## Phonon Noise\n",
    "This version is from eq 33 of Mather, Applied Optics, V21, No 6, p 1125, 1982.\n",
    "It uses an integral over the thermal conductance of the bolometer legs, \n",
    "<br>\n",
    "$ I_1  = \\int_{T_{coldstage}}^{T_{bolo}}[(t k(t))/(T_{bolo} k(T_{bolo}))]^2 dt $\n",
    "<br>\n",
    "$ I_2 = \\int_{T_{coldstage}}^{T_{bolo}}[k(t)/k(T_{bolo})] $\n",
    "<br>\n",
    "$NEP_{phonon} = 4 k T_{bolo}^2 G_{dyn} \\frac{I_1}{I_2} $\n",
    "<br>\n",
    "We will exploit the fact that most materials have $k(t) = \\kappa t^\\beta$,\n",
    "with $\\beta = 1$ for normal metals, $\\beta = 3$ for crystalline solids and superconductors, and in terms of the exponent we already defined for saturation power, $\\beta = n-1$.\n"
   ]
  },
  {
   "cell_type": "code",
   "execution_count": 56,
   "metadata": {},
   "outputs": [],
   "source": [
    "#Phonon (Thermal Fluctuation) noise\n",
    "#set up T vector for phonon noise integral\n",
    "T = np.linspace(T_coldstage, T_bolo, num=1000)\n",
    "b = n-1\n",
    "# For k(t) = kappa*T^beta, the kappas cancel in the integrand.\n",
    "I1 = np.trapz((T*(T**b)/(T_bolo*(T_bolo**b)))**2, x = T)\n",
    "I2 = np.trapz((T**b)/(T_bolo**b), x=T)\n",
    "\n",
    "NEP2_phonon = 4*k*T_bolo**2*Gdyn*I1/I2\n",
    "NEP_phonon = np.sqrt(NEP2_phonon)\n",
    "NEI_phonon = NEP_phonon*abs(S_dc)"
   ]
  },
  {
   "cell_type": "markdown",
   "metadata": {},
   "source": [
    "## Johnson noise\n",
    "Johnson noise is due to the thermal fluctuations of the conducting charges (electrons) in a resistor.  The noise in a resistor is given by\n",
    "<br>\n",
    "$ NEI = 4 k T/R $ , \n",
    "<br>\n",
    "but this is partially suppressed in a bolometer due to electrothermal feedback.  The first-order estimate is \n",
    "<br>\n",
    "$ NEI = 4 k T/ (L_g^2 R) $\n",
    "<br>\n",
    "where $Lg$ is the electrothermal loop gain.\n",
    "<br>\n",
    "(Note: we're ignoring Johnson noise from other circuit elements.)"
   ]
  },
  {
   "cell_type": "code",
   "execution_count": 65,
   "metadata": {},
   "outputs": [],
   "source": [
    "#TES Johnson noise\n",
    "\n",
    "NEI2_johnson = 4*k*T_bolo/R_bolo/Lg**2   # easy version.\n",
    "NEI_johnson = np.sqrt(NEI2_johnson)\n",
    "NEP_johnson = NEI_johnson/abs(S_dc)\n",
    "NEP2_johnson = NEP_johnson**2"
   ]
  },
  {
   "cell_type": "markdown",
   "metadata": {},
   "source": [
    "## Readout noise\n",
    "Here we just take the NEI spec from whoever builds the readout.  :)"
   ]
  },
  {
   "cell_type": "code",
   "execution_count": 66,
   "metadata": {},
   "outputs": [],
   "source": [
    "#readout noise\n",
    "NEI_readout = NEI_squid\n",
    "NEP_readout = NEI_readout/abs(S_dc) \n",
    "NEP2_readout = NEP_readout**2"
   ]
  },
  {
   "cell_type": "markdown",
   "metadata": {},
   "source": [
    "## Total noise figures "
   ]
  },
  {
   "cell_type": "code",
   "execution_count": 76,
   "metadata": {},
   "outputs": [
    {
     "name": "stdout",
     "output_type": "stream",
     "text": [
      "NET_CMB = 616.28 uK/sqrt(Hz)\n"
     ]
    }
   ],
   "source": [
    "# Convert photon noise to NEI\n",
    "\n",
    "# Make NEI photon now, because we didn't have the conversion factor before...\n",
    "NEI_photon = NEP_photon*abs(S_dc)\n",
    "\n",
    "# total NEP\n",
    "NEP2_tot = NEP2_photon + NEP2_phonon + NEP2_johnson + NEP2_readout\n",
    "NEP_tot = np.sqrt(NEP2_tot)\n",
    "NEI_tot = NEP_tot*abs(S_dc)\n",
    "\n",
    "NET_RJ = NEP_tot/dPdT_RJ\n",
    "NET_CMB = NEP_tot/dPdT_cmb\n",
    "\n",
    "print('NET_CMB_photon = %4.2f uK/sqrt(Hz)' % (NET_CMB_photon*1e6))\n",
    "print('NET_CMB = %4.2f uK/sqrt(Hz)' % (NET_CMB*1e6))"
   ]
  },
  {
   "cell_type": "markdown",
   "metadata": {},
   "source": [
    "# Functions to do this!\n",
    "Often we want to do exactly this kind of calculation, but looping over a parameter of interest, like T_bolo or T_coldstage or R_bolo, etc.  The tools I use to do this in practice\n",
    "are:\n",
    "<br>\n",
    "* A file to define (multiple sets of) instrument baseline parameters, instrument_defs.py\n",
    "* A python script to calculate the optical load, photon NEP, etc.  (optical_calcs.py)\n",
    "* A python script to calculate other bolometer noise contributions, and total them (tes_calcs.py)\n",
    "\n",
    "Note that these make use of dictionaries (called \"detector\" and \"optics\") to organize and store the inputs and outputs.\n",
    "Here, we'll use these to calculate NET_CMB as a function of T_coldstage."
   ]
  },
  {
   "cell_type": "code",
   "execution_count": 122,
   "metadata": {},
   "outputs": [],
   "source": [
    "import InstrumentDefs as ID\n",
    "import optical_calcs as oc\n",
    "import tes_calcs as tc"
   ]
  },
  {
   "cell_type": "code",
   "execution_count": 157,
   "metadata": {},
   "outputs": [
    {
     "data": {
      "text/plain": [
       "<matplotlib.legend.Legend at 0x1207f7278>"
      ]
     },
     "execution_count": 157,
     "metadata": {},
     "output_type": "execute_result"
    },
    {
     "data": {
      "image/png": "[encoded data removed]",
      "text/plain": [
       "<Figure size 720x360 with 1 Axes>"
      ]
     },
     "metadata": {
      "needs_background": "light"
     },
     "output_type": "display_data"
    }
   ],
   "source": [
    "detector, optics = ID.S4_150()\n",
    "detector, optics = oc.optical_calcs(detector, optics)\n",
    "\n",
    "tbase_vec = np.arange(0.1,0.3,0.001)  # 0.1 to 0.3K\n",
    "\n",
    "tot_vec = np.array([])\n",
    "phonon_vec = np.array([])\n",
    "johnson_vec = np.array([])\n",
    "readout_vec = np.array([])\n",
    "photon_vec = np.array([])\n",
    "for tbase in tbase_vec:\n",
    "    # reset the parameters of interest before calling tes_calcs\n",
    "    detector['T_base'] = tbase\n",
    "    detector['T_bolo'] = 2*tbase\n",
    "    detector = tc.tes_calcs(detector)\n",
    "    tot_vec = np.append(tot_vec,detector['NoiseTotal']['NET_CMB'])\n",
    "    phonon_vec = np.append(phonon_vec,detector['Phonon']['NET_CMB'])\n",
    "    johnson_vec = np.append(johnson_vec,detector['Johnson']['NET_CMB'])\n",
    "    readout_vec = np.append(readout_vec,detector['Readout']['NET_CMB'])\n",
    "    photon_vec = np.append(photon_vec,detector['Photon']['NET_CMB'])\n",
    "    \n",
    "plt.plot(tbase_vec,1e6*tot_vec,label='Total')\n",
    "plt.plot(tbase_vec,1e6*phonon_vec,label='Phonon')\n",
    "plt.plot(tbase_vec,1e6*photon_vec,label='Photon')\n",
    "plt.plot(tbase_vec,1e6*johnson_vec,label='Johnson')\n",
    "plt.plot(tbase_vec,1e6*readout_vec,label='Readout')\n",
    "plt.xlabel(r'T$_{\\rm base}$')\n",
    "plt.ylabel(r'NET$_{\\rm cmb}$')\n",
    "plt.title('150GHz')\n",
    "plt.grid()\n",
    "plt.legend()\n",
    "    "
   ]
  },
  {
   "cell_type": "code",
   "execution_count": null,
   "metadata": {},
   "outputs": [],
   "source": []
  }
 ],
 "metadata": {
  "kernelspec": {
   "display_name": "Python 3",
   "language": "python",
   "name": "python3"
  },
  "language_info": {
   "codemirror_mode": {
    "name": "ipython",
    "version": 3
   },
   "file_extension": ".py",
   "mimetype": "text/x-python",
   "name": "python",
   "nbconvert_exporter": "python",
   "pygments_lexer": "ipython3",
   "version": "3.7.3"
  }
 },
 "nbformat": 4,
 "nbformat_minor": 2
}
